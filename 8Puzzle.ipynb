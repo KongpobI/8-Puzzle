{
  "nbformat": 4,
  "nbformat_minor": 0,
  "metadata": {
    "colab": {
      "provenance": [],
      "collapsed_sections": [
        "s0Mx4TlkhTXb",
        "m7rujFbvO_9a",
        "PpJ4gSorgzSE"
      ],
      "authorship_tag": "ABX9TyOduDloUGjOTsXUlFnAsO/s",
      "include_colab_link": true
    },
    "kernelspec": {
      "name": "python3",
      "display_name": "Python 3"
    },
    "language_info": {
      "name": "python"
    }
  },
  "cells": [
    {
      "cell_type": "markdown",
      "metadata": {
        "id": "view-in-github",
        "colab_type": "text"
      },
      "source": [
        "<a href=\"https://colab.research.google.com/github/KongpobI/8-Puzzle/blob/main/8Puzzle.ipynb\" target=\"_parent\"><img src=\"https://colab.research.google.com/assets/colab-badge.svg\" alt=\"Open In Colab\"/></a>"
      ]
    },
    {
      "cell_type": "markdown",
      "source": [
        "## **8-Puzzle**"
      ],
      "metadata": {
        "id": "BPX8xA-n7HUy"
      }
    },
    {
      "cell_type": "markdown",
      "source": [
        "## BFS 8 (Blind Search)"
      ],
      "metadata": {
        "id": "s0Mx4TlkhTXb"
      }
    },
    {
      "cell_type": "code",
      "source": [
        "import time\n",
        "\n",
        "def gen_successors(node):\n",
        "    global last_index\n",
        "    node_id = node[1]\n",
        "    level = node[3]\n",
        "    ret = []\n",
        "    state = node[0]\n",
        "    loc = int(state[0])\n",
        "    puzzle = state[1:]\n",
        "    if loc % 3 != 0:\n",
        "        new_state = str(loc-1) + puzzle[:loc-1] + puzzle[loc] + puzzle[loc-1] + puzzle[loc+1:]\n",
        "        ret += [(new_state,last_index+1,node[1],node[3]+1)]\n",
        "        last_index += 1\n",
        "    if (loc+1) % 3 != 0:\n",
        "        new_state = str(loc+1) + puzzle[:loc] + puzzle[loc+1] + puzzle[loc] + puzzle[loc+2:]\n",
        "        ret += [(new_state,last_index+1,node[1],node[3]+1)]\n",
        "        last_index += 1\n",
        "    if loc >= 3:\n",
        "        new_state = str(loc-3) + puzzle[:loc-3] + puzzle[loc] + puzzle[loc-2:loc] + puzzle[loc-3] + puzzle[loc+1:]\n",
        "        ret += [(new_state,last_index+1,node[1],node[3]+1)]\n",
        "        last_index += 1\n",
        "    if loc <= 5:\n",
        "        new_state = str(loc+3) + puzzle[:loc] + puzzle[loc+3] + puzzle[loc+1:loc+3] + puzzle[loc] + puzzle[loc+4:]\n",
        "        ret += [(new_state,last_index+1,node[1],node[3]+1)]\n",
        "        last_index += 1\n",
        "    return ret\n",
        "\n",
        "def is_goal(node):\n",
        "    return node[0] == '8123456780'\n",
        "\n",
        "def show_result(g,visited_node):\n",
        "    current_node = g\n",
        "    parent_index = current_node[1]\n",
        "    ans = []\n",
        "    while True:\n",
        "        ans.insert(0,[current_node[0][1:4],current_node[0][4:7],current_node[0][7:]])\n",
        "        parent_index = current_node[2]\n",
        "        if parent_index == -1:\n",
        "            break\n",
        "        current_node = visited_node[parent_index]\n",
        "    for i in ans :\n",
        "        print(i[0])\n",
        "        print(i[1])\n",
        "        print(i[2])\n",
        "        print()"
      ],
      "metadata": {
        "id": "jjqoy9Dw7XD8"
      },
      "execution_count": null,
      "outputs": []
    },
    {
      "cell_type": "code",
      "source": [
        "def insert_all_bfs(node,fringe):\n",
        "    children = gen_successors(node)\n",
        "    nodeCount = len(children)\n",
        "    for child in children:\n",
        "        fringe.append(child)\n",
        "    return nodeCount\n",
        "\n",
        "def bfs(start_node,show):\n",
        "    global last_index\n",
        "    last_index = 0\n",
        "    fringe = [start_node]\n",
        "    visited_node = {}\n",
        "    countRemove = 0\n",
        "    countInsert = 0\n",
        "    start = time.time()\n",
        "    while True:\n",
        "        if time.time() - start >= 120 :\n",
        "          print(\"Out of time (BFS run over than 120 Sec)\")\n",
        "          return[\"Out of time (BFS run over than 120 Sec\"]\n",
        "        if len(fringe) == 0:\n",
        "            print('Not Found')\n",
        "            break\n",
        "        front = fringe[0]\n",
        "        visited_node[front[1]] = front\n",
        "        fringe = fringe[1:]\n",
        "        countRemove += 1\n",
        "        if is_goal(front):\n",
        "            if show ==1 :\n",
        "                show_result(front,visited_node)\n",
        "            return {\"Remove\":countRemove,\"Generate\":countInsert, \"Time\":time.time() - start}\n",
        "        countInsert += insert_all_bfs(front,fringe)"
      ],
      "metadata": {
        "id": "YfqGPrtQh0wr"
      },
      "execution_count": null,
      "outputs": []
    },
    {
      "cell_type": "code",
      "source": [
        "state = '8413256780'\n",
        "a = bfs((state,0,-1,0),1)\n",
        "a"
      ],
      "metadata": {
        "colab": {
          "base_uri": "https://localhost:8080/"
        },
        "id": "Ecv9ai3Xx0pz",
        "outputId": "0157e64e-3e10-4c7b-d3c7-cc1d628e556d"
      },
      "execution_count": null,
      "outputs": [
        {
          "output_type": "stream",
          "name": "stdout",
          "text": [
            "413\n",
            "256\n",
            "780\n",
            "\n",
            "413\n",
            "256\n",
            "708\n",
            "\n",
            "413\n",
            "206\n",
            "758\n",
            "\n",
            "413\n",
            "026\n",
            "758\n",
            "\n",
            "013\n",
            "426\n",
            "758\n",
            "\n",
            "103\n",
            "426\n",
            "758\n",
            "\n",
            "123\n",
            "406\n",
            "758\n",
            "\n",
            "123\n",
            "456\n",
            "708\n",
            "\n",
            "123\n",
            "456\n",
            "780\n",
            "\n"
          ]
        },
        {
          "output_type": "execute_result",
          "data": {
            "text/plain": [
              "{'Remove': 2496, 'Generate': 7042, 'Time': 0.037576913833618164}"
            ]
          },
          "metadata": {},
          "execution_count": 283
        }
      ]
    },
    {
      "cell_type": "markdown",
      "source": [
        "##DFS (Blind Search)"
      ],
      "metadata": {
        "id": "m7rujFbvO_9a"
      }
    },
    {
      "cell_type": "code",
      "source": [
        "def insert_all_dfs(node,fringe):\n",
        "    children = gen_successors(node)\n",
        "    nodeCount = len(children)\n",
        "    for child in children:\n",
        "        fringe[0:0] = [child]\n",
        "    return nodeCount\n",
        "\n",
        "def dfs(start_node,show):\n",
        "    global last_index\n",
        "    last_index = 0\n",
        "    fringe = [start_node]\n",
        "    visited_node = {}\n",
        "    countRemove = 0\n",
        "    countInsert = 0\n",
        "    start_time = time.time()\n",
        "    while True:\n",
        "        current_time = time.time()\n",
        "        elapsed_time = current_time - start_time\n",
        "        if elapsed_time >= 120 : # Limit time\n",
        "          print(\"Out of time (DFS run over than 120 Sec)\")\n",
        "          return [\"Out of time (DFS run over than 120 Sec)\"]\n",
        "        if len(fringe) == 0:\n",
        "            print('Not Found')\n",
        "            break\n",
        "        front = fringe[0]\n",
        "        visited_node[front[1]] = front\n",
        "        fringe = fringe[1:]\n",
        "        countRemove += 1\n",
        "        if is_goal(front):\n",
        "          if show == 1 :\n",
        "            show_result(front,visited_node)\n",
        "          return {\"Remove\":countRemove,\"Generate\":countInsert, \"Time\":time.time() - start_time}\n",
        "        countInsert += insert_all_dfs(front,fringe)"
      ],
      "metadata": {
        "id": "V0EeCPwHPBxK"
      },
      "execution_count": null,
      "outputs": []
    },
    {
      "cell_type": "code",
      "source": [
        "state = '8413256780'\n",
        "a = dfs((state,0,-1,0),0)\n",
        "a"
      ],
      "metadata": {
        "id": "qs-w1H7JMrxy"
      },
      "execution_count": null,
      "outputs": []
    },
    {
      "cell_type": "markdown",
      "source": [
        "## IDS (Blind Search)"
      ],
      "metadata": {
        "id": "PpJ4gSorgzSE"
      }
    },
    {
      "cell_type": "code",
      "source": [
        "def dfs_c(start_node,limited_level,show, start):\n",
        "    global last_index\n",
        "    global countRemove\n",
        "    global countInsert\n",
        "    last_index = 0\n",
        "    fringe = [start_node]\n",
        "    visited_node = {}\n",
        "    while True:\n",
        "        current_time = time.time()\n",
        "        if current_time - start >= 120 :\n",
        "          print(\"Out of time (IDS run over than 120 Sec)\")\n",
        "          return False\n",
        "        if len(fringe) == 0:\n",
        "            # print('Not Found')\n",
        "            break\n",
        "        front = fringe[0]\n",
        "        visited_node[front[1]] = front\n",
        "        fringe = fringe[1:]\n",
        "        countRemove += 1\n",
        "        if is_goal(front):\n",
        "            if show == 1 :\n",
        "              show_result(front,visited_node)\n",
        "            return {\"Remove\":countRemove,\"Generate\" :countInsert, \"time\":time.time() - start}\n",
        "        if front[3] == limited_level:\n",
        "            continue\n",
        "        countInsert += insert_all_dfs(front,fringe)\n",
        "\n",
        "def ids(start_node, show) :\n",
        "  global countRemove\n",
        "  global countInsert\n",
        "  global startTime\n",
        "  countRemove = 0\n",
        "  countInsert = 0\n",
        "  start = time.time()\n",
        "  for i in range(100):\n",
        "      # print(\"Limit Search at level \"+str(i+1))\n",
        "      a = dfs_c((start_node,0,-1,0),i,show,start)\n",
        "      if a:\n",
        "          break\n",
        "  return a\n",
        "\n",
        "state = '8413256780'\n",
        "ids(state, 0)"
      ],
      "metadata": {
        "colab": {
          "base_uri": "https://localhost:8080/"
        },
        "id": "QVrFnf7FhACC",
        "outputId": "df93d1f0-d22c-4071-f5a2-bffa52a6a142"
      },
      "execution_count": null,
      "outputs": [
        {
          "output_type": "execute_result",
          "data": {
            "text/plain": [
              "{'Remove': 4678, 'Generate': 4676, 'time': 0.011774301528930664}"
            ]
          },
          "metadata": {},
          "execution_count": 286
        }
      ]
    },
    {
      "cell_type": "markdown",
      "source": [
        "## **Compare with each Search algorithms**"
      ],
      "metadata": {
        "id": "Mdt_pOLz7dEN"
      }
    },
    {
      "cell_type": "code",
      "source": [
        "bfs_info = bfs((state,0,-1,0),0)\n",
        "dfs_info = dfs((state,0,-1,0),0)\n",
        "ids_info = ids(state,0)"
      ],
      "metadata": {
        "colab": {
          "base_uri": "https://localhost:8080/"
        },
        "id": "Hv63GfdW7dc0",
        "outputId": "48f21481-1708-4200-af73-a9fa616067b4"
      },
      "execution_count": null,
      "outputs": [
        {
          "output_type": "stream",
          "name": "stdout",
          "text": [
            "Out of time (DFS run over than 120 Sec)\n"
          ]
        }
      ]
    },
    {
      "cell_type": "markdown",
      "source": [
        "\n",
        "\n",
        "---\n",
        "จะเห็นว่า DFS ใช้เวลารันนานมากจนเกินเวลาที่ตั้งไว้ 2 นาที\n"
      ],
      "metadata": {
        "id": "aAjcRCParw5q"
      }
    },
    {
      "cell_type": "code",
      "source": [
        "print(\"BFS node generate:\",bfs_info[\"Generate\"], \"runtime\", bfs_info[\"Time\"])\n",
        "print(\"IDS node generate:\",ids_info[\"Generate\"], \"runtime\", ids_info[\"time\"])"
      ],
      "metadata": {
        "colab": {
          "base_uri": "https://localhost:8080/"
        },
        "id": "ULAeQGfJpSGV",
        "outputId": "90c40cc0-1cad-4597-9807-e84f0ed0988f"
      },
      "execution_count": null,
      "outputs": [
        {
          "output_type": "stream",
          "name": "stdout",
          "text": [
            "BFS node generate: 7042 runtime 0.0385584831237793\n",
            "IDS node generate: 4676 runtime 0.010650157928466797\n"
          ]
        }
      ]
    },
    {
      "cell_type": "markdown",
      "source": [
        "\n",
        "\n",
        "---\n",
        "\n",
        "BFS generate node มากกว่า IDS นั่นคือ BFS กินmemoryมากกว่า IDS\n",
        "ส่วนในเรื่องของ Runtime จะเห็นว่า IDS ทำงานได้ไวกว่า BFS เล็กน้อย"
      ],
      "metadata": {
        "id": "VfbbvC1EsSnu"
      }
    },
    {
      "cell_type": "markdown",
      "source": [
        "สรุปแล้วจะเห็นว่า\n",
        "\n",
        "*   Breadth First Search (BFS) จะค้นหาโดยแตกnodeทางกว้างทำให้สามารถหา least solution ได้ค่อนข้างไว แต่จะกินmemory\n",
        "*   Depth First Search (DFS) จะแก้ปัญหาของ BFS ในเรื่องของการกิน memory แต่จะไปเกิดปัญหาใหม่คือใช้เวลาทำงานนาน\n",
        "*   Iterative Deeping Search (IDS) จะสามารถแก้ปัญหาของ BFS(กินMemory) และ DFS(long runtime) ได้\n",
        "\n",
        "\n",
        "\n"
      ],
      "metadata": {
        "id": "z6oUQQzPs-Wr"
      }
    },
    {
      "cell_type": "code",
      "source": [
        "import matplotlib.pyplot as plt\n",
        "import pandas as pd\n",
        "\n",
        "rt = pd.DataFrame({\"BFS Runtime\":[bfs_info[\"Time\"]], \"IDS Runtime\":[ids_info[\"time\"]] })\n",
        "rt.plot(kind = \"bar\")\n",
        "plt.text(-1/6,0.039,round(bfs_info[\"Time\"],4))\n",
        "plt.text(1/12,0.011,round(ids_info[\"time\"],4))\n",
        "plt.ylabel(\"Time (Sec)\")\n",
        "plt.title(\"Runtime\")\n",
        "\n",
        "node = pd.DataFrame({\"BFS Generate node\":[bfs_info[\"Generate\"]], \"IDS Generate node\":[ids_info[\"Generate\"]] })\n",
        "node.plot(kind = \"bar\")\n",
        "plt.text(-1/6,7050,round(bfs_info[\"Generate\"],4))\n",
        "plt.text(1/12,4700,round(ids_info[\"Generate\"],4))\n",
        "plt.ylabel(\"Node\")\n",
        "plt.title(\"Generate node\")"
      ],
      "metadata": {
        "colab": {
          "base_uri": "https://localhost:8080/",
          "height": 894
        },
        "id": "A125hj-czgtm",
        "outputId": "f6284829-ed05-4df9-a546-d4602374e969"
      },
      "execution_count": null,
      "outputs": [
        {
          "output_type": "execute_result",
          "data": {
            "text/plain": [
              "Text(0.5, 1.0, 'Generate node')"
            ]
          },
          "metadata": {},
          "execution_count": 326
        },
        {
          "output_type": "display_data",
          "data": {
            "text/plain": [
              "<Figure size 640x480 with 1 Axes>"
            ],
            "image/png": "[encoded data removed]"
          },
          "metadata": {}
        },
        {
          "output_type": "display_data",
          "data": {
            "text/plain": [
              "<Figure size 640x480 with 1 Axes>"
            ],
            "image/png": "[encoded data removed]"
          },
          "metadata": {}
        }
      ]
    }
  ]
}